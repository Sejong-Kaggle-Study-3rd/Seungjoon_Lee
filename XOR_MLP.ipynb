{
  "nbformat": 4,
  "nbformat_minor": 0,
  "metadata": {
    "colab": {
      "name": "XOR_MLP.ipynb",
      "provenance": [],
      "authorship_tag": "ABX9TyNzFUSI+OOOKy4Z/S9EsGev",
      "include_colab_link": true
    },
    "kernelspec": {
      "name": "python3",
      "display_name": "Python 3"
    },
    "language_info": {
      "name": "python"
    }
  },
  "cells": [
    {
      "cell_type": "markdown",
      "metadata": {
        "id": "view-in-github",
        "colab_type": "text"
      },
      "source": [
        "<a href=\"https://colab.research.google.com/github/Looma1116/Kaggle-Study_Seungjoon_Lee/blob/main/XOR_MLP.ipynb\" target=\"_parent\"><img src=\"https://colab.research.google.com/assets/colab-badge.svg\" alt=\"Open In Colab\"/></a>"
      ]
    },
    {
      "cell_type": "code",
      "metadata": {
        "id": "G9fT3uN3R2g2"
      },
      "source": [
        "import torch"
      ],
      "execution_count": 1,
      "outputs": []
    },
    {
      "cell_type": "code",
      "metadata": {
        "id": "MiQvQCeNS9Wj"
      },
      "source": [
        "X = torch.FloatTensor([[0,0],[0,1],[1,0],[1,1]])\n",
        "Y = torch.FloatTensor([[0],[1],[1],[0]])"
      ],
      "execution_count": 2,
      "outputs": []
    },
    {
      "cell_type": "code",
      "metadata": {
        "colab": {
          "base_uri": "https://localhost:8080/"
        },
        "id": "DksZXDGtTNnO",
        "outputId": "f94b938b-f3fd-4c86-cc8f-e3fd95a108b7"
      },
      "source": [
        "print(X)\n",
        "print(Y)"
      ],
      "execution_count": 3,
      "outputs": [
        {
          "output_type": "stream",
          "text": [
            "tensor([[0., 0.],\n",
            "        [0., 1.],\n",
            "        [1., 0.],\n",
            "        [1., 1.]])\n",
            "tensor([[0.],\n",
            "        [1.],\n",
            "        [1.],\n",
            "        [0.]])\n"
          ],
          "name": "stdout"
        }
      ]
    },
    {
      "cell_type": "markdown",
      "metadata": {
        "id": "q16C2lwsTZ8d"
      },
      "source": [
        "MLP\n",
        "![image.png](data:image/png;base64,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)"
      ]
    },
    {
      "cell_type": "code",
      "metadata": {
        "id": "S2ffHdyhTdZ0"
      },
      "source": [
        "#모델정의\n",
        "#Layer 정의\n",
        "layer1 = torch.nn.Linear(2,2,bias=True) #입력 2개 출력 2개인 첫 번쨰 레이어\n",
        "layer2 = torch.nn.Linear(2,1,bias=True) #입력 2개 출력 1개인 두 번쨰 레이어\n",
        "sigmoid = torch.nn.Sigmoid()"
      ],
      "execution_count": 14,
      "outputs": []
    },
    {
      "cell_type": "code",
      "metadata": {
        "id": "voA2CAKmTqaZ"
      },
      "source": [
        "model = torch.nn.Sequential(layer1,sigmoid,layer2,sigmoid)"
      ],
      "execution_count": 15,
      "outputs": []
    },
    {
      "cell_type": "code",
      "metadata": {
        "colab": {
          "base_uri": "https://localhost:8080/"
        },
        "id": "7HNRoaNKZuf5",
        "outputId": "14309743-c229-4aa4-f9c1-c58c813704ab"
      },
      "source": [
        "model"
      ],
      "execution_count": 17,
      "outputs": [
        {
          "output_type": "execute_result",
          "data": {
            "text/plain": [
              "Sequential(\n",
              "  (0): Linear(in_features=2, out_features=2, bias=True)\n",
              "  (1): Sigmoid()\n",
              "  (2): Linear(in_features=2, out_features=1, bias=True)\n",
              "  (3): Sigmoid()\n",
              ")"
            ]
          },
          "metadata": {
            "tags": []
          },
          "execution_count": 17
        }
      ]
    },
    {
      "cell_type": "markdown",
      "metadata": {
        "id": "RJWPn5GBTc7m"
      },
      "source": [
        "모델 학습\n"
      ]
    },
    {
      "cell_type": "code",
      "metadata": {
        "id": "B7KSfgSoVFsK"
      },
      "source": [
        "#모델 환경설정\n",
        "#Bianry Cross Entroypy loss\n",
        "loss = torch.nn.BCELoss()\n",
        "optimizer = torch.optim.SGD(model.parameters(),lr=1)"
      ],
      "execution_count": 18,
      "outputs": []
    },
    {
      "cell_type": "code",
      "metadata": {
        "colab": {
          "base_uri": "https://localhost:8080/"
        },
        "id": "m6VnUbkZVVQj",
        "outputId": "a5d5cd49-a16c-4d9a-eba4-612e94ce4f09"
      },
      "source": [
        "for stop in range(10000):\n",
        "  #그래디언트 초기화\n",
        "  optimizer.zero_grad()\n",
        "  #Forward계산\n",
        "  hypothesis = model(X)\n",
        "  #Error 계산\n",
        "  cost = loss(hypothesis, Y)\n",
        "  #Backward 계산\n",
        "  cost.backward()\n",
        "  #가중치 갱신\n",
        "  optimizer.step()\n",
        "\n",
        "  if stop % 100 == 0:\n",
        "    print(stop, cost.item())\n"
      ],
      "execution_count": 19,
      "outputs": [
        {
          "output_type": "stream",
          "text": [
            "0 0.6931415796279907\n",
            "100 0.6926567554473877\n",
            "200 0.6919062733650208\n",
            "300 0.6886444091796875\n",
            "400 0.667019248008728\n",
            "500 0.5730037689208984\n",
            "600 0.4625853896141052\n",
            "700 0.19331690669059753\n",
            "800 0.07820460200309753\n",
            "900 0.04583493620157242\n",
            "1000 0.03191137686371803\n",
            "1100 0.02432265877723694\n",
            "1200 0.019586311653256416\n",
            "1300 0.016362641006708145\n",
            "1400 0.014032845385372639\n",
            "1500 0.012273370288312435\n",
            "1600 0.010899252258241177\n",
            "1700 0.009797390550374985\n",
            "1800 0.008894698694348335\n",
            "1900 0.008142048493027687\n",
            "2000 0.007505199871957302\n",
            "2100 0.006959452759474516\n",
            "2200 0.006486720405519009\n",
            "2300 0.0060733892023563385\n",
            "2400 0.00570889376103878\n",
            "2500 0.005385255441069603\n",
            "2600 0.0050958869978785515\n",
            "2700 0.004835714120417833\n",
            "2800 0.004600490443408489\n",
            "2900 0.004386921413242817\n",
            "3000 0.004192073829472065\n",
            "3100 0.004013618919998407\n",
            "3200 0.00384960207156837\n",
            "3300 0.0036983408499509096\n",
            "3400 0.003558408934623003\n",
            "3500 0.003428545780479908\n",
            "3600 0.003307775128632784\n",
            "3700 0.003195106750354171\n",
            "3800 0.0030898507684469223\n",
            "3900 0.0029912274330854416\n",
            "4000 0.0028986367397010326\n",
            "4100 0.0028115841560065746\n",
            "4200 0.002729529980570078\n",
            "4300 0.0026521445252001286\n",
            "4400 0.002578963525593281\n",
            "4500 0.0025096721947193146\n",
            "4600 0.002443940844386816\n",
            "4700 0.002381589962169528\n",
            "4800 0.002322334796190262\n",
            "4900 0.002265920862555504\n",
            "5000 0.002212153747677803\n",
            "5100 0.0021608537063002586\n",
            "5200 0.002111885929480195\n",
            "5300 0.0020650262013077736\n",
            "5400 0.0020201841834932566\n",
            "5500 0.0019772707019001245\n",
            "5600 0.001936105778440833\n",
            "5700 0.001896614907309413\n",
            "5800 0.0018586930818855762\n",
            "5900 0.0018222657963633537\n",
            "6000 0.0017872430616989732\n",
            "6100 0.0017535053193569183\n",
            "6200 0.0017210227670148015\n",
            "6300 0.0016896905144676566\n",
            "6400 0.0016594788758084178\n",
            "6500 0.0016303426818922162\n",
            "6600 0.0016021925257518888\n",
            "6700 0.0015749685699120164\n",
            "6800 0.0015486855991184711\n",
            "6900 0.0015232688747346401\n",
            "7000 0.0014986589085310698\n",
            "7100 0.0014747658278793097\n",
            "7200 0.0014517090748995543\n",
            "7300 0.0014292346313595772\n",
            "7400 0.0014075369108468294\n",
            "7500 0.0013864812208339572\n",
            "7600 0.0013660229742527008\n",
            "7700 0.0013461619382724166\n",
            "7800 0.0013268383918330073\n",
            "7900 0.001308127073571086\n",
            "8000 0.001289893640205264\n",
            "8100 0.00127213797532022\n",
            "8200 0.001254919683560729\n",
            "8300 0.0012381046544760466\n",
            "8400 0.0012217224575579166\n",
            "8500 0.0012057882267981768\n",
            "8600 0.001190301845781505\n",
            "8700 0.0011751140700653195\n",
            "8800 0.0011603889288380742\n",
            "8900 0.0011459774104878306\n",
            "9000 0.001131954020820558\n",
            "9100 0.0011182589223608375\n",
            "9200 0.0011048922315239906\n",
            "9300 0.001091809244826436\n",
            "9400 0.0010790395317599177\n",
            "9500 0.0010666132438927889\n",
            "9600 0.0010544108226895332\n",
            "9700 0.001042491989210248\n",
            "9800 0.0010308567434549332\n",
            "9900 0.001019504969008267\n"
          ],
          "name": "stdout"
        }
      ]
    },
    {
      "cell_type": "markdown",
      "metadata": {
        "id": "TEt7WpNiWESa"
      },
      "source": [
        "모델평가"
      ]
    },
    {
      "cell_type": "code",
      "metadata": {
        "colab": {
          "base_uri": "https://localhost:8080/"
        },
        "id": "h9uZeXApWFaa",
        "outputId": "59c1118f-11de-49b2-fcfd-6284ce9a1520"
      },
      "source": [
        "#W,b 평가\n",
        "\n",
        "with torch.no_grad() : #임시로 required_grad=false처럼 지금 학슴하는게 아니라고 알려줌\n",
        "  hypothesis = model(X)\n",
        "  predicted = (hypothesis > 0.5).float()\n",
        "  accuracy = (predicted == Y).float().mean()\n",
        "  print('\\n Hypothesis : ', hypothesis.numpy(),'\\n Coreect :', predicted.numpy(),'\\n Accuracy', accuracy.numpy())"
      ],
      "execution_count": 20,
      "outputs": [
        {
          "output_type": "stream",
          "text": [
            "\n",
            " Hypothesis :  [[1.2967113e-03]\n",
            " [9.9909663e-01]\n",
            " [9.9909663e-01]\n",
            " [9.2769781e-04]] \n",
            " Coreect : [[0.]\n",
            " [1.]\n",
            " [1.]\n",
            " [0.]] \n",
            " Accuracy 1.0\n"
          ],
          "name": "stdout"
        }
      ]
    },
    {
      "cell_type": "markdown",
      "metadata": {
        "id": "-DJauayUWsxp"
      },
      "source": [
        "Multi Layer Perceptron 으로는 XOR 문제를 풀 수 있다."
      ]
    }
  ]
}