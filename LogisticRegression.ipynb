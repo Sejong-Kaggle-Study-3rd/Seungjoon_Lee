{
  "nbformat": 4,
  "nbformat_minor": 0,
  "metadata": {
    "colab": {
      "name": "LogisticRegression",
      "provenance": [],
      "collapsed_sections": [],
      "authorship_tag": "ABX9TyPCqoEzG3bPhEKy9kJR8NvD",
      "include_colab_link": true
    },
    "kernelspec": {
      "name": "python3",
      "display_name": "Python 3"
    },
    "language_info": {
      "name": "python"
    }
  },
  "cells": [
    {
      "cell_type": "markdown",
      "metadata": {
        "id": "view-in-github",
        "colab_type": "text"
      },
      "source": [
        "<a href=\"https://colab.research.google.com/github/Looma1116/Kaggle-Study_Seungjoon_Lee/blob/main/LogisticRegression.ipynb\" target=\"_parent\"><img src=\"https://colab.research.google.com/assets/colab-badge.svg\" alt=\"Open In Colab\"/></a>"
      ]
    },
    {
      "cell_type": "code",
      "metadata": {
        "colab": {
          "base_uri": "https://localhost:8080/"
        },
        "id": "AjZCbuZEO3HF",
        "outputId": "6eb801fa-f30f-4d75-d2c1-e02a511ea96a"
      },
      "source": [
        " import torch\n",
        " import torch.optim as optim\n",
        "\n",
        "\n",
        " x_data = [[1,2],[2,3],[3,1],[4,3],[5,3],[4,2]]\n",
        " y_data = [[0],[0],[0],[1],[1],[1]]\n",
        "\n",
        " x_train = torch.FloatTensor(x_data)\n",
        " y_train = torch.FloatTensor(y_data)\n",
        "\n",
        " print(x_train,x_train.shape)\n",
        " print(y_train,y_train.shape)\n",
        "  "
      ],
      "execution_count": 3,
      "outputs": [
        {
          "output_type": "stream",
          "text": [
            "tensor([[1., 2.],\n",
            "        [2., 3.],\n",
            "        [3., 1.],\n",
            "        [4., 3.],\n",
            "        [5., 3.],\n",
            "        [4., 2.]]) torch.Size([6, 2])\n",
            "tensor([[0.],\n",
            "        [0.],\n",
            "        [0.],\n",
            "        [1.],\n",
            "        [1.],\n",
            "        [1.]]) torch.Size([6, 1])\n"
          ],
          "name": "stdout"
        }
      ]
    },
    {
      "cell_type": "code",
      "metadata": {
        "colab": {
          "base_uri": "https://localhost:8080/"
        },
        "id": "II71YdyAWN86",
        "outputId": "9c8d2b4a-89e3-41ed-df5d-914740bc91a1"
      },
      "source": [
        "W = torch.zeros((2,1),requires_grad=True)\n",
        "b = torch.zeros(1,requires_grad=True)\n",
        "\n",
        "optimizer = optim.SGD([W,b],lr = 1)\n",
        "\n",
        "nb_epochs = 10001\n",
        "for epoch in range(nb_epochs):\n",
        "  hypothesis = torch.sigmoid(x_train@W+b)\n",
        "  cost = -(y_train*torch.log(hypothesis)+(1-y_train)*torch.log(1-hypothesis)).mean()\n",
        "\n",
        "  optimizer.zero_grad()\n",
        "  cost.backward()\n",
        "  optimizer.step()\n",
        "\n",
        "  if epoch % 500 == 0:\n",
        "    print('Epoch {:4d}/{} Cost: {:.6f}'.format(epoch,nb_epochs,cost.item()))"
      ],
      "execution_count": 4,
      "outputs": [
        {
          "output_type": "stream",
          "text": [
            "Epoch    0/10001 Cost: 0.693147\n",
            "Epoch  500/10001 Cost: 0.054055\n",
            "Epoch 1000/10001 Cost: 0.029379\n",
            "Epoch 1500/10001 Cost: 0.020221\n",
            "Epoch 2000/10001 Cost: 0.015434\n",
            "Epoch 2500/10001 Cost: 0.012490\n",
            "Epoch 3000/10001 Cost: 0.010494\n",
            "Epoch 3500/10001 Cost: 0.009052\n",
            "Epoch 4000/10001 Cost: 0.007960\n",
            "Epoch 4500/10001 Cost: 0.007105\n",
            "Epoch 5000/10001 Cost: 0.006417\n",
            "Epoch 5500/10001 Cost: 0.005851\n",
            "Epoch 6000/10001 Cost: 0.005377\n",
            "Epoch 6500/10001 Cost: 0.004975\n",
            "Epoch 7000/10001 Cost: 0.004629\n",
            "Epoch 7500/10001 Cost: 0.004328\n",
            "Epoch 8000/10001 Cost: 0.004065\n",
            "Epoch 8500/10001 Cost: 0.003831\n",
            "Epoch 9000/10001 Cost: 0.003624\n",
            "Epoch 9500/10001 Cost: 0.003437\n",
            "Epoch 10000/10001 Cost: 0.003269\n"
          ],
          "name": "stdout"
        }
      ]
    },
    {
      "cell_type": "code",
      "metadata": {
        "colab": {
          "base_uri": "https://localhost:8080/"
        },
        "id": "Q74rHHVbZhlO",
        "outputId": "ab04e65d-44aa-4659-8070-fcdf1d21284b"
      },
      "source": [
        "print(hypothesis)\n",
        "\n",
        "prediction = hypothesis >= torch.FloatTensor([0.5])\n",
        "print('Prediction:')\n",
        "print(prediction)\n",
        "print('Label:')\n",
        "print(y_train>=torch.FloatTensor([0.5]))"
      ],
      "execution_count": 5,
      "outputs": [
        {
          "output_type": "stream",
          "text": [
            "tensor([[1.7277e-07],\n",
            "        [2.4831e-03],\n",
            "        [8.9284e-03],\n",
            "        [9.9951e-01],\n",
            "        [1.0000e+00],\n",
            "        [9.9235e-01]], grad_fn=<SigmoidBackward>)\n",
            "Prediction:\n",
            "tensor([[False],\n",
            "        [False],\n",
            "        [False],\n",
            "        [ True],\n",
            "        [ True],\n",
            "        [ True]])\n",
            "Label:\n",
            "tensor([[False],\n",
            "        [False],\n",
            "        [False],\n",
            "        [ True],\n",
            "        [ True],\n",
            "        [ True]])\n"
          ],
          "name": "stdout"
        }
      ]
    },
    {
      "cell_type": "code",
      "metadata": {
        "colab": {
          "base_uri": "https://localhost:8080/"
        },
        "id": "Qiei1fei7dSA",
        "outputId": "0b21b1b6-2e5f-4f1e-9b2a-059005e769c0"
      },
      "source": [
        "XX = torch.FloatTensor([100,1])  ##100시간 공부하고 수업 1번 참여하면??\n",
        "hypothesis_test = torch.sigmoid(XX@W+b)\n",
        "prediction = hypothesis_test >= torch.FloatTensor([0.5])\n",
        "print(prediction) #시험 통과!"
      ],
      "execution_count": 15,
      "outputs": [
        {
          "output_type": "stream",
          "text": [
            "tensor([True])\n"
          ],
          "name": "stdout"
        }
      ]
    }
  ]
}