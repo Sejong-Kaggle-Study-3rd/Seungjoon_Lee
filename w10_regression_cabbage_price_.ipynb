{
  "nbformat": 4,
  "nbformat_minor": 0,
  "metadata": {
    "colab": {
      "name": "w10 regression-cabbage-price .ipynb",
      "provenance": [],
      "mount_file_id": "1Wfvq2PMrEGo-5J279LCV_M6qsrdZ9eYR",
      "authorship_tag": "ABX9TyOeaIWnwTD5ABepIjmTBp3N",
      "include_colab_link": true
    },
    "kernelspec": {
      "name": "python3",
      "display_name": "Python 3"
    },
    "language_info": {
      "name": "python"
    }
  },
  "cells": [
    {
      "cell_type": "markdown",
      "metadata": {
        "id": "view-in-github",
        "colab_type": "text"
      },
      "source": [
        "<a href=\"https://colab.research.google.com/github/Looma1116/Kaggle-Study_Seungjoon_Lee/blob/main/w10_regression_cabbage_price_.ipynb\" target=\"_parent\"><img src=\"https://colab.research.google.com/assets/colab-badge.svg\" alt=\"Open In Colab\"/></a>"
      ]
    },
    {
      "cell_type": "code",
      "metadata": {
        "colab": {
          "base_uri": "https://localhost:8080/"
        },
        "id": "lTmAOGopT_vE",
        "outputId": "cc8a3d5b-edbc-45ab-aa93-707e65b8a6ab"
      },
      "source": [
        "!python3 -m venv tutorial-env"
      ],
      "execution_count": null,
      "outputs": [
        {
          "output_type": "stream",
          "text": [
            "Error: Command '['/content/tutorial-env/bin/python3', '-Im', 'ensurepip', '--upgrade', '--default-pip']' returned non-zero exit status 1.\n"
          ],
          "name": "stdout"
        }
      ]
    },
    {
      "cell_type": "code",
      "metadata": {
        "colab": {
          "base_uri": "https://localhost:8080/"
        },
        "id": "73wZ3ThKOoe1",
        "outputId": "3649e252-dcb8-47e3-e8e0-75c7036cda1f"
      },
      "source": [
        "\n",
        "!pip uninstall -y kaggle\n",
        "!pip install --upgrade pip\n",
        "!pip install kaggle==1.5.6"
      ],
      "execution_count": null,
      "outputs": [
        {
          "output_type": "stream",
          "text": [
            "Found existing installation: kaggle 1.5.6\n",
            "Uninstalling kaggle-1.5.6:\n",
            "  Successfully uninstalled kaggle-1.5.6\n",
            "\u001b[33mWARNING: Running pip as root will break packages and permissions. You should install packages reliably by using venv: https://pip.pypa.io/warnings/venv\u001b[0m\n",
            "Requirement already satisfied: pip in /usr/local/lib/python3.7/dist-packages (21.1.2)\n",
            "\u001b[33mWARNING: Running pip as root will break packages and permissions. You should install packages reliably by using venv: https://pip.pypa.io/warnings/venv\u001b[0m\n",
            "Collecting kaggle==1.5.6\n",
            "  Using cached kaggle-1.5.6-py3-none-any.whl\n",
            "Requirement already satisfied: python-dateutil in /usr/local/lib/python3.7/dist-packages (from kaggle==1.5.6) (2.8.1)\n",
            "Requirement already satisfied: requests in /usr/local/lib/python3.7/dist-packages (from kaggle==1.5.6) (2.23.0)\n",
            "Requirement already satisfied: certifi in /usr/local/lib/python3.7/dist-packages (from kaggle==1.5.6) (2020.12.5)\n",
            "Requirement already satisfied: tqdm in /usr/local/lib/python3.7/dist-packages (from kaggle==1.5.6) (4.41.1)\n",
            "Requirement already satisfied: python-slugify in /usr/local/lib/python3.7/dist-packages (from kaggle==1.5.6) (5.0.2)\n",
            "Requirement already satisfied: six>=1.10 in /usr/local/lib/python3.7/dist-packages (from kaggle==1.5.6) (1.15.0)\n",
            "Requirement already satisfied: urllib3<1.25,>=1.21.1 in /usr/local/lib/python3.7/dist-packages (from kaggle==1.5.6) (1.24.3)\n",
            "Requirement already satisfied: text-unidecode>=1.3 in /usr/local/lib/python3.7/dist-packages (from python-slugify->kaggle==1.5.6) (1.3)\n",
            "Requirement already satisfied: idna<3,>=2.5 in /usr/local/lib/python3.7/dist-packages (from requests->kaggle==1.5.6) (2.10)\n",
            "Requirement already satisfied: chardet<4,>=3.0.2 in /usr/local/lib/python3.7/dist-packages (from requests->kaggle==1.5.6) (3.0.4)\n",
            "Installing collected packages: kaggle\n",
            "Successfully installed kaggle-1.5.6\n",
            "\u001b[33mWARNING: Running pip as root will break packages and permissions. You should install packages reliably by using venv: https://pip.pypa.io/warnings/venv\u001b[0m\n"
          ],
          "name": "stdout"
        }
      ]
    },
    {
      "cell_type": "code",
      "metadata": {
        "colab": {
          "base_uri": "https://localhost:8080/"
        },
        "id": "qDi3PPajPI6R",
        "outputId": "13a7dede-2575-44c3-a396-1e099777600f"
      },
      "source": [
        "!mkdir -p ~/.kaggle\n",
        "!cp kaggle.json ~/.kaggle/\n",
        "!chmod 600 ~/.kaggle/kaggle.json\n",
        "! kaggle -v"
      ],
      "execution_count": null,
      "outputs": [
        {
          "output_type": "stream",
          "text": [
            "Kaggle API 1.5.6\n"
          ],
          "name": "stdout"
        }
      ]
    },
    {
      "cell_type": "code",
      "metadata": {
        "colab": {
          "base_uri": "https://localhost:8080/"
        },
        "id": "N0Deqq0tPzkW",
        "outputId": "32bfebdc-38e1-4439-ed19-c19e005c536c"
      },
      "source": [
        "!kaggle competitions download -c regression-cabbage-price"
      ],
      "execution_count": null,
      "outputs": [
        {
          "output_type": "stream",
          "text": [
            "Downloading regression-cabbage-price.zip to /content\n",
            "\r  0% 0.00/29.7k [00:00<?, ?B/s]\n",
            "\r100% 29.7k/29.7k [00:00<00:00, 21.8MB/s]\n"
          ],
          "name": "stdout"
        }
      ]
    },
    {
      "cell_type": "code",
      "metadata": {
        "colab": {
          "base_uri": "https://localhost:8080/"
        },
        "id": "Bg6IKjY0iv4i",
        "outputId": "590fc311-1e6f-41de-d2f1-e79df9fdf7a6"
      },
      "source": [
        "!unzip regression-cabbage-price.zip"
      ],
      "execution_count": null,
      "outputs": [
        {
          "output_type": "stream",
          "text": [
            "Archive:  regression-cabbage-price.zip\n",
            "  inflating: submit_sample.csv       \n",
            "  inflating: test_cabbage_price.csv  \n",
            "  inflating: train_cabbage_price.csv  \n"
          ],
          "name": "stdout"
        }
      ]
    },
    {
      "cell_type": "code",
      "metadata": {
        "id": "s9isH3l5jp1i"
      },
      "source": [
        "import numpy as np\n",
        "import torch\n",
        "xy_train = np.loadtxt('train_cabbage_price.csv', delimiter=',',dtype=np.float32, skiprows=1, usecols=range(1,6))\n",
        "x_data = torch.from_numpy(xy_train[:,0:-1])\n",
        "y_data = torch.from_numpy(xy_train[:,[-1]])\n",
        "\n",
        "xy_test = np.loadtxt('test_cabbage_price.csv', delimiter=',',dtype=np.float32, skiprows=1, usecols=range(1,5))\n",
        "x_test = torch.from_numpy(xy_test)"
      ],
      "execution_count": null,
      "outputs": []
    },
    {
      "cell_type": "code",
      "metadata": {
        "colab": {
          "base_uri": "https://localhost:8080/"
        },
        "id": "wVFo7-WVpG03",
        "outputId": "d25fca0b-60b3-47d4-dea5-78a851b56e65"
      },
      "source": [
        "print(x_data)\n",
        "print(y_data)\n",
        "print(x_test)"
      ],
      "execution_count": null,
      "outputs": [
        {
          "output_type": "stream",
          "text": [
            "tensor([[ -4.9000, -11.0000,   0.9000,   0.0000],\n",
            "        [ -3.1000,  -5.5000,   5.5000,   0.8000],\n",
            "        [ -2.9000,  -6.9000,   1.4000,   0.0000],\n",
            "        ...,\n",
            "        [  2.9000,  -2.1000,   8.0000,   0.0000],\n",
            "        [  2.9000,  -1.6000,   7.1000,   0.6000],\n",
            "        [  2.1000,  -2.0000,   5.8000,   0.4000]])\n",
            "tensor([[2123.],\n",
            "        [2123.],\n",
            "        [2123.],\n",
            "        ...,\n",
            "        [2901.],\n",
            "        [2901.],\n",
            "        [2901.]])\n",
            "tensor([[13.5000,  8.0000, 19.2000,  2.6000],\n",
            "        [ 1.1000, -3.0000,  9.5000,  0.8000],\n",
            "        [12.0000,  5.1000, 19.6000,  0.0000],\n",
            "        [16.6000, 11.9000, 22.5000,  0.1000],\n",
            "        [22.4000, 17.8000, 27.4000,  0.5000],\n",
            "        [18.8000, 13.9000, 24.4000,  0.0000]])\n"
          ],
          "name": "stdout"
        }
      ]
    },
    {
      "cell_type": "code",
      "metadata": {
        "id": "mluyDf1WpSsb",
        "colab": {
          "base_uri": "https://localhost:8080/"
        },
        "outputId": "4ce5a3ee-821a-428a-bea7-a352bdd7f020"
      },
      "source": [
        "epochs = 10001\n",
        "lr = 0.0001\n",
        "\n",
        "W = torch.zeros(4,1, requires_grad=True)\n",
        "b = torch.zeros(1, requires_grad=True)\n",
        "\n",
        "def model(x):\n",
        "  return x @ W + b\n",
        "\n",
        "def cost_fn(pred, label):\n",
        "  diff = pred - label\n",
        "  return torch.mean(diff**2)\n",
        "\n",
        "for epoch in range(epochs):\n",
        "  pred = model(x_data)\n",
        "  cost = cost_fn(pred,y_data)\n",
        "  cost.backward()\n",
        "\n",
        "  if epoch%200 == 0:\n",
        "    print('Epoch : {:5d}, Loss : {}'.format(epoch, cost.item()))\n",
        "  \n",
        "  with torch.no_grad():\n",
        "    W -= W.grad * lr\n",
        "    b -= b.grad *lr\n",
        "    W.grad.zero_()\n",
        "    b.grad.zero_()"
      ],
      "execution_count": 90,
      "outputs": [
        {
          "output_type": "stream",
          "text": [
            "Epoch :     0, Loss : 12610011.0\n",
            "Epoch :   200, Loss : 2646556.5\n",
            "Epoch :   400, Loss : 2334200.0\n",
            "Epoch :   600, Loss : 2284404.25\n",
            "Epoch :   800, Loss : 2274839.0\n",
            "Epoch :  1000, Loss : 2271450.75\n",
            "Epoch :  1200, Loss : 2269020.25\n",
            "Epoch :  1400, Loss : 2266748.25\n",
            "Epoch :  1600, Loss : 2264511.0\n",
            "Epoch :  1800, Loss : 2262290.25\n",
            "Epoch :  2000, Loss : 2260082.75\n",
            "Epoch :  2200, Loss : 2257888.75\n",
            "Epoch :  2400, Loss : 2255707.0\n",
            "Epoch :  2600, Loss : 2253537.75\n",
            "Epoch :  2800, Loss : 2251381.5\n",
            "Epoch :  3000, Loss : 2249237.5\n",
            "Epoch :  3200, Loss : 2247105.5\n",
            "Epoch :  3400, Loss : 2244986.0\n",
            "Epoch :  3600, Loss : 2242878.75\n",
            "Epoch :  3800, Loss : 2240783.5\n",
            "Epoch :  4000, Loss : 2238700.5\n",
            "Epoch :  4200, Loss : 2236629.5\n",
            "Epoch :  4400, Loss : 2234570.25\n",
            "Epoch :  4600, Loss : 2232523.0\n",
            "Epoch :  4800, Loss : 2230487.0\n",
            "Epoch :  5000, Loss : 2228463.0\n",
            "Epoch :  5200, Loss : 2226450.5\n",
            "Epoch :  5400, Loss : 2224449.5\n",
            "Epoch :  5600, Loss : 2222459.75\n",
            "Epoch :  5800, Loss : 2220481.5\n",
            "Epoch :  6000, Loss : 2218514.5\n",
            "Epoch :  6200, Loss : 2216558.75\n",
            "Epoch :  6400, Loss : 2214613.75\n",
            "Epoch :  6600, Loss : 2212680.25\n",
            "Epoch :  6800, Loss : 2210757.5\n",
            "Epoch :  7000, Loss : 2208846.0\n",
            "Epoch :  7200, Loss : 2206944.75\n",
            "Epoch :  7400, Loss : 2205054.5\n",
            "Epoch :  7600, Loss : 2203175.0\n",
            "Epoch :  7800, Loss : 2201306.25\n",
            "Epoch :  8000, Loss : 2199447.75\n",
            "Epoch :  8200, Loss : 2197600.0\n",
            "Epoch :  8400, Loss : 2195762.5\n",
            "Epoch :  8600, Loss : 2193935.5\n",
            "Epoch :  8800, Loss : 2192118.75\n",
            "Epoch :  9000, Loss : 2190312.0\n",
            "Epoch :  9200, Loss : 2188515.5\n",
            "Epoch :  9400, Loss : 2186729.25\n",
            "Epoch :  9600, Loss : 2184952.75\n",
            "Epoch :  9800, Loss : 2183186.5\n",
            "Epoch : 10000, Loss : 2181429.75\n"
          ],
          "name": "stdout"
        }
      ]
    },
    {
      "cell_type": "code",
      "metadata": {
        "colab": {
          "base_uri": "https://localhost:8080/"
        },
        "id": "7ahkPoROr-G1",
        "outputId": "6c5d3b3b-3de6-45d3-dbb5-082f5b389606"
      },
      "source": [
        "prediction = model(x_test)\n",
        "print(x_test)\n",
        "print(prediction)"
      ],
      "execution_count": 93,
      "outputs": [
        {
          "output_type": "stream",
          "text": [
            "tensor([[13.5000,  8.0000, 19.2000,  2.6000],\n",
            "        [ 1.1000, -3.0000,  9.5000,  0.8000],\n",
            "        [12.0000,  5.1000, 19.6000,  0.0000],\n",
            "        [16.6000, 11.9000, 22.5000,  0.1000],\n",
            "        [22.4000, 17.8000, 27.4000,  0.5000],\n",
            "        [18.8000, 13.9000, 24.4000,  0.0000]])\n",
            "tensor([[3327.4043],\n",
            "        [3257.1592],\n",
            "        [3883.7512],\n",
            "        [3295.0093],\n",
            "        [3294.4785],\n",
            "        [3332.1597]], grad_fn=<AddBackward0>)\n"
          ],
          "name": "stdout"
        }
      ]
    },
    {
      "cell_type": "code",
      "metadata": {
        "colab": {
          "base_uri": "https://localhost:8080/",
          "height": 235
        },
        "id": "BOFfbDcnsZSk",
        "outputId": "0731a43b-c991-4556-cbbe-941c60c707ee"
      },
      "source": [
        "import pandas as pd\n",
        "\n",
        "submit = pd.read_csv('submit_sample.csv')"
      ],
      "execution_count": 94,
      "outputs": [
        {
          "output_type": "execute_result",
          "data": {
            "text/html": [
              "<div>\n",
              "<style scoped>\n",
              "    .dataframe tbody tr th:only-of-type {\n",
              "        vertical-align: middle;\n",
              "    }\n",
              "\n",
              "    .dataframe tbody tr th {\n",
              "        vertical-align: top;\n",
              "    }\n",
              "\n",
              "    .dataframe thead th {\n",
              "        text-align: right;\n",
              "    }\n",
              "</style>\n",
              "<table border=\"1\" class=\"dataframe\">\n",
              "  <thead>\n",
              "    <tr style=\"text-align: right;\">\n",
              "      <th></th>\n",
              "      <th>Id</th>\n",
              "      <th>Expected</th>\n",
              "    </tr>\n",
              "  </thead>\n",
              "  <tbody>\n",
              "    <tr>\n",
              "      <th>0</th>\n",
              "      <td>0</td>\n",
              "      <td>1000</td>\n",
              "    </tr>\n",
              "    <tr>\n",
              "      <th>1</th>\n",
              "      <td>1</td>\n",
              "      <td>1000</td>\n",
              "    </tr>\n",
              "    <tr>\n",
              "      <th>2</th>\n",
              "      <td>2</td>\n",
              "      <td>1000</td>\n",
              "    </tr>\n",
              "    <tr>\n",
              "      <th>3</th>\n",
              "      <td>3</td>\n",
              "      <td>1000</td>\n",
              "    </tr>\n",
              "    <tr>\n",
              "      <th>4</th>\n",
              "      <td>4</td>\n",
              "      <td>1000</td>\n",
              "    </tr>\n",
              "    <tr>\n",
              "      <th>5</th>\n",
              "      <td>5</td>\n",
              "      <td>1000</td>\n",
              "    </tr>\n",
              "  </tbody>\n",
              "</table>\n",
              "</div>"
            ],
            "text/plain": [
              "   Id  Expected\n",
              "0   0      1000\n",
              "1   1      1000\n",
              "2   2      1000\n",
              "3   3      1000\n",
              "4   4      1000\n",
              "5   5      1000"
            ]
          },
          "metadata": {
            "tags": []
          },
          "execution_count": 94
        }
      ]
    },
    {
      "cell_type": "code",
      "metadata": {
        "colab": {
          "base_uri": "https://localhost:8080/"
        },
        "id": "NSWXTZ6Ds4x1",
        "outputId": "a935aa46-0db0-4cb1-b651-2b4e9a101952"
      },
      "source": [
        "for i in range(len(prediction)) :\n",
        "  submit['Expected'][i] = prediction[i].item()\n",
        "\n",
        "print(submit)"
      ],
      "execution_count": 96,
      "outputs": [
        {
          "output_type": "stream",
          "text": [
            "   Id  Expected\n",
            "0   0      3327\n",
            "1   1      3257\n",
            "2   2      3883\n",
            "3   3      3295\n",
            "4   4      3294\n",
            "5   5      3332\n"
          ],
          "name": "stdout"
        }
      ]
    },
    {
      "cell_type": "code",
      "metadata": {
        "colab": {
          "base_uri": "https://localhost:8080/"
        },
        "id": "9sQDPNmztymH",
        "outputId": "6f34d4c3-61c7-4752-e615-ccff6222139e"
      },
      "source": [
        "submit.to_csv('submit.csv', mode='w', index=False)\n",
        "!kaggle competitions submit -c regression-cabbage-price -f submit.csv -m \"first_submit\""
      ],
      "execution_count": 98,
      "outputs": [
        {
          "output_type": "stream",
          "text": [
            "Warning: Looks like you're using an outdated API Version, please consider updating (server 1.5.12 / client 1.5.6)\n",
            "100% 54.0/54.0 [00:00<00:00, 248B/s]\n",
            "Successfully submitted to Regression : Cabbage price"
          ],
          "name": "stdout"
        }
      ]
    }
  ]
}